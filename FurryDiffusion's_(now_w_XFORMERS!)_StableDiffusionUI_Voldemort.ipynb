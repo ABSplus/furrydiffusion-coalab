{
  "nbformat": 4,
  "nbformat_minor": 0,
  "metadata": {
    "colab": {
      "private_outputs": true,
      "provenance": [],
      "collapsed_sections": [],
      "include_colab_link": true
    },
    "kernelspec": {
      "name": "python3",
      "display_name": "Python 3"
    },
    "language_info": {
      "name": "python"
    },
    "accelerator": "GPU",
    "gpuClass": "standard"
  },
  "cells": [
    {
      "cell_type": "markdown",
      "metadata": {
        "id": "view-in-github",
        "colab_type": "text"
      },
      "source": [
        "<a href=\"https://colab.research.google.com/github/ABSplus/furrydiffusion-coalab/blob/main/FurryDiffusion's_(now_w_XFORMERS!)_StableDiffusionUI_Voldemort.ipynb\" target=\"_parent\"><img src=\"https://colab.research.google.com/assets/colab-badge.svg\" alt=\"Open In Colab\"/></a>"
      ]
    },
    {
      "cell_type": "markdown",
      "source": [
        "> Adapted from: [TheLastBen's Optimized Colab](https://github.com/TheLastBen/fast-stable-diffusion) which is a derivative of [MattieuHPTR's Optimizations](https://github.com/huggingface/diffusers/pull/532)\n",
        "\n",
        "\n",
        "Join us on the [Furry Diffusion Discord](https://discord.gg/pxpEYkmphQ)"
      ],
      "metadata": {
        "id": "gfKvWAVnz8OB"
      }
    },
    {
      "cell_type": "markdown",
      "source": [
        "# Download the requirements"
      ],
      "metadata": {
        "id": "gTZVt9QVFaX0"
      }
    },
    {
      "cell_type": "code",
      "execution_count": null,
      "metadata": {
        "id": "OL82Y4rBjZIV"
      },
      "outputs": [],
      "source": [
        "%%capture\n",
        "%mkdir /content/sd\n",
        "%cd /content/sd\n",
        "!git clone https://github.com/CompVis/stable-diffusion\n",
        "!git clone https://github.com/AUTOMATIC1111/stable-diffusion-webui\n",
        "%cd /content/sd/stable-diffusion-webui/\n",
        "!pip install huggingface\n",
        "!pip install torch"
      ]
    },
    {
      "cell_type": "code",
      "source": [
        "import time\n",
        "%cd /content/sd/stable-diffusion-webui\n",
        "!mkdir repositories\n",
        "%cd /content/sd\n",
        "!git clone https://github.com/CompVis/taming-transformers /content/sd/taming-transformers\n",
        "!git clone https://github.com/openai/CLIP /content/sd/CLIP\n",
        "!git clone https://github.com/salesforce/BLIP /content/sd/BLIP\n",
        "!git clone https://github.com/sczhou/CodeFormer /content/sd/CodeFormer\n",
        "!git clone https://github.com/xinntao/Real-ESRGAN /content/sd/realESRGAN\n",
        "!git clone https://github.com/Hafiidz/latent-diffusion /content/sd/latent-diffusion\n",
        "!git clone https://github.com/crowsonkb/k-diffusion.git /content/sd/k-diffusion\n",
        "!git clone https://github.com/TencentARC/GFPGAN /content/sd/stable-diffusion-webui/repositories/GFPGAN\n",
        "%cd /content/\n",
        "!wget https://github.com/TheLastBen/fast-stable-diffusion/raw/main/Dependencies/Dependencies_AUT.1\n",
        "!wget https://github.com/TheLastBen/fast-stable-diffusion/raw/main/Dependencies/Dependencies_AUT.2\n",
        "!mv Dependencies_AUT.1 Dependencies_AUT.7z.001\n",
        "!mv Dependencies_AUT.2 Dependencies_AUT.7z.002\n",
        "!7z x Dependencies_AUT.7z.001\n",
        "time.sleep(3)\n",
        "!cp -r /content/usr/local/lib/python3.7/dist-packages /usr/local/lib/python3.7/\n",
        "!rm -r /content/usr\n",
        "!rm Dependencies_AUT.7z.001\n",
        "!rm Dependencies_AUT.7z.002\n",
        "!cp -r /content/sd/stable-diffusion/ldm /content/sd/stable-diffusion-webui/\n",
        "time.sleep(1)\n",
        "%cd /content/sd/stable-diffusion-webui/ldm/modules\n",
        "!wget -O attention.py https://raw.githubusercontent.com/TheLastBen/fast-stable-diffusion/main/precompiled/attention.py\n",
        "%cd /content/\n",
        "!git clone https://github.com/DominikDoom/a1111-sd-webui-tagcomplete /content/autocomplete\n",
        "!sed -i 's/danbooru.csv/e621.csv/g' /content/autocomplete/tags/config.json\n",
        "!cp -r /content/autocomplete/tagAutocomplete.js /content/sd/stable-diffusion-webui/javascript/tagAutocomlete.js\n",
        "!cp -r /content/autocomplete/tags /content/sd/stable-diffusion\n",
        "time.sleep(1)\n",
        "!rm -r /content/autocomplete\n",
        "print('Completed.')"
      ],
      "metadata": {
        "id": "W9gHmzyPlu2Z"
      },
      "execution_count": null,
      "outputs": []
    },
    {
      "cell_type": "code",
      "source": [
        "from IPython.display import clear_output\n",
        "import time\n",
        "from IPython.display import HTML\n",
        "from subprocess import getoutput\n",
        "import os\n",
        "\n",
        "def gpu_t4() -> None:\n",
        "  %pip install -q https://github.com/TheLastBen/fast-stable-diffusion/raw/main/precompiled/T4/xformers-0.0.13.dev0-py3-none-any.whl\n",
        "  return\n",
        "\n",
        "def gpu_p100() -> None:\n",
        "  %pip install -q https://github.com/TheLastBen/fast-stable-diffusion/raw/main/precompiled/V100/xformers-0.0.13.dev0-py3-none-any.whl\n",
        "  return\n",
        "\n",
        "def gpu_v100() -> None:\n",
        "  %pip install -q https://github.com/TheLastBen/fast-stable-diffusion/raw/main/precompiled/P100/xformers-0.0.13.dev0-py3-none-any.whl\n",
        "  return\n",
        "\n",
        "def gpu_a100() -> None:\n",
        "  %pip install -q https://github.com/TheLastBen/fast-stable-diffusion/raw/main/precompiled/A100/xformers-0.0.13.dev0-py3-none-any.whl\n",
        "  return\n",
        "\n",
        "hashmap_gpus = {\n",
        "    \"T4\": gpu_t4,\n",
        "    \"P100\": gpu_p100,\n",
        "    \"V100\": gpu_v100,\n",
        "    \"A100\": gpu_a100\n",
        "}\n",
        "\n",
        "gpu_func = None\n",
        "\n",
        "s = getoutput('nvidia-smi')\n",
        "if 'T4' in s:\n",
        "  gpu = 'T4'\n",
        "elif 'P100' in s:\n",
        "  gpu = 'P100'\n",
        "elif 'V100' in s:\n",
        "  gpu = 'V100'\n",
        "elif 'A100' in s:\n",
        "  gpu = 'A100'\n",
        "\n",
        "gpu_func = hashmap_gpus[gpu]\n",
        "\n",
        "if not gpu_func:\n",
        "  print('it seems that your GPU is not supported at the moment')\n",
        "  time.sleep(5)\n",
        "else:\n",
        "  gpu_func()\n",
        "\n",
        "print('Completed.')"
      ],
      "metadata": {
        "id": "2jp3bRv0_d5J"
      },
      "execution_count": null,
      "outputs": []
    },
    {
      "cell_type": "markdown",
      "source": [
        "# Download a model"
      ],
      "metadata": {
        "id": "bTBUYeLnEVuN"
      }
    },
    {
      "cell_type": "markdown",
      "source": [
        "### **Recommended:** Directly download a model"
      ],
      "metadata": {
        "id": "yCW3T5xVGVew"
      }
    },
    {
      "cell_type": "code",
      "source": [
        "hashmap_models = {\n",
        "    'fe4':'furry-ckpt/furry_epoch4',\n",
        "    'ye18':'yiffy-ckpt/yiffy-e18',\n",
        "    'z3dv1':'furry-ckpt/Zack3D_Kinky-v1',\n",
        "    'ponyv1':'furry-ckpt/pony_sfw_80k_safe_and_suggestive_500rating_plus-pruned',\n",
        "    'cookie-pony-nsfw':'furry-ckpt/cookie_sd_pony_nsfw_run_a9_datasetv3_28k_imgs',\n",
        "    'krystal':'furry-ckpt/dreambooth_krystal_thatbluefoxfromstarfoxkrystal-anthro'\n",
        "}\n",
        "\n",
        "selected_model = 'fe4' # @param [\"fe4\", \"ye18\", \"z3dv1\", \"ponyv1\", \"cookie-pony-nsfw\", \"krystal\"]\n",
        "\n",
        "!wget https://sexy.canine.wf/file/{hashmap_models[selected_model]}.ckpt -O /content/sd/stable-diffusion-webui/models/Stable-diffusion/model.ckpt\n",
        "\n",
        "print('Completed.')"
      ],
      "metadata": {
        "id": "cfo-yDnrbgQ5"
      },
      "execution_count": null,
      "outputs": []
    },
    {
      "cell_type": "markdown",
      "source": [
        "### **OR** Import a custom model from Google Drive"
      ],
      "metadata": {
        "id": "6rePyiRiHQZF"
      }
    },
    {
      "cell_type": "code",
      "source": [
        "from google.colab import drive\n",
        "drive.mount('/content/drive')\n",
        "\n",
        "file_id = \"model.ckpt\" #@param {type:\"string\"}\n",
        "\n",
        "!cp /content/drive/MyDrive/{file_id} /content/sd/stable-diffusion-webui/models/Stable-diffusion/model.ckpt\n",
        "\n",
        "print('Completed.')"
      ],
      "metadata": {
        "id": "Z4AgnlhDHV3o"
      },
      "execution_count": null,
      "outputs": []
    },
    {
      "cell_type": "markdown",
      "source": [
        "# The Home Stretch! **Almost done!**"
      ],
      "metadata": {
        "id": "DSYc8253Ekg3"
      }
    },
    {
      "cell_type": "code",
      "source": [
        "#@markdown # When the AI is ready to be used, it will say: <br />\n",
        "#@markdown Running on local URL: **htt\\*://xxxxxxxxxxxxxxxx.loca.lt:443** <br />\n",
        "#@markdown Open that link. It's a website. If it's the first time you've tried colab, it will give you a little message. You just have to press \"Click to continue\" <br />\n",
        "#@markdown This step will not 'complete' like the last steps, it's completely normal and intended behaviour. <br />\n",
        "from IPython.utils import capture\n",
        "from subprocess import getoutput\n",
        "import os\n",
        "import time\n",
        "\n",
        "with capture.capture_output() as cap: \n",
        "  if not os.path.exists('/tools/node/bin/lt'):\n",
        "    !npm install -g localtunnel\n",
        "\n",
        "with capture.capture_output() as cap: \n",
        "  %cd /content/sd/stable-diffusion-webui/\n",
        "  time.sleep(1)\n",
        "  !wget -O webui.py https://raw.githubusercontent.com/AUTOMATIC1111/stable-diffusion-webui/master/webui.py\n",
        "  !sed -i 's@gpu_call).*@gpu_call) \\n        demo.queue(concurrency_count=111500)@' /content/sd/stable-diffusion-webui/webui.py\n",
        "Use_Gradio_Server = False #@param {type:\"boolean\"}\n",
        "#@markdown  - Only if you have trouble connecting to the local server\n",
        "with capture.capture_output() as cap: \n",
        "  %cd /content\n",
        "\n",
        "share=''\n",
        "if Use_Gradio_Server:\n",
        "  share='--share'\n",
        "  !sed -i '1037s@.*@            self.server_name = server_name@' /usr/local/lib/python3.7/dist-packages/gradio/blocks.py\n",
        "  !sed -i '1039s@.*@            self.server_port = server_port@' /usr/local/lib/python3.7/dist-packages/gradio/blocks.py  \n",
        "  !sed -i '1043s@.*@            self.protocol = \"https\" if self.local_url.startswith(\"https\") else \"http\"@' /usr/local/lib/python3.7/dist-packages/gradio/blocks.py  \n",
        "else:\n",
        "  !nohup lt --port 7860 > srv.txt 2>&1 &\n",
        "  time.sleep(2)\n",
        "  !grep -o 'https[^ ]*' /content/srv.txt >srvr.txt\n",
        "  time.sleep(2)\n",
        "  srv= getoutput('cat /content/srvr.txt')\n",
        "\n",
        "  !sed -i '1037s@.*@            self.server_name = \"{srv[8:]}\"@' /usr/local/lib/python3.7/dist-packages/gradio/blocks.py\n",
        "  !sed -i '1039s@.*@            self.server_port = 443@' /usr/local/lib/python3.7/dist-packages/gradio/blocks.py\n",
        "  !sed -i '1043s@.*@            self.protocol = \"https\"@' /usr/local/lib/python3.7/dist-packages/gradio/blocks.py  \n",
        "          \n",
        "  !sed -i '13s@.*@    \"PUBLIC_SHARE_TRUE\": \"\u001b[32mConnected\",@' /usr/local/lib/python3.7/dist-packages/gradio/strings.py\n",
        "  \n",
        "  !rm /content/srv.txt\n",
        "  !rm /content/srvr.txt\n",
        "\n",
        "with capture.capture_output() as cap: \n",
        "  %cd /content/sd/stable-diffusion\n",
        "\n",
        "!python /content/sd/stable-diffusion-webui/webui.py $share --disable-safe-unpickle"
      ],
      "metadata": {
        "id": "R-xAdMA5wxXd"
      },
      "execution_count": null,
      "outputs": []
    },
    {
      "cell_type": "markdown",
      "source": [
        "# Download outputs from Colab"
      ],
      "metadata": {
        "id": "XJF75OY739vO"
      }
    },
    {
      "cell_type": "markdown",
      "source": [
        "Run the code, navigate to the left hotbar, look for the folder icon and right click the zip file and hit download!"
      ],
      "metadata": {
        "id": "QlGNKrus4H01"
      }
    },
    {
      "cell_type": "code",
      "source": [
        "from google.colab import files\n",
        "\n",
        "%cd /content/sd/stable-diffusion/\n",
        "\n",
        "!zip -r /content/images.zip outputs log/images\n",
        "\n",
        "files.download('/content/images.zip')"
      ],
      "metadata": {
        "id": "FGvvqfpB4Pmk"
      },
      "execution_count": null,
      "outputs": []
    }
  ]
}